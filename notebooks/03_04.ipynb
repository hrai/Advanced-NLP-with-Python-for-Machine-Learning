{
 "cells": [
  {
   "cell_type": "markdown",
   "metadata": {},
   "source": [
    "# doc2vec: How To Prep Document Vectors For Modeling"
   ]
  },
  {
   "cell_type": "markdown",
   "metadata": {},
   "source": [
    "### Train Our Own Model"
   ]
  },
  {
   "cell_type": "code",
   "execution_count": 11,
   "metadata": {},
   "outputs": [
    {
     "name": "stdout",
     "output_type": "stream",
     "text": [
      "Requirement already up-to-date: gensim in /opt/conda/lib/python3.8/site-packages (3.8.3)\n",
      "Requirement already satisfied, skipping upgrade: six>=1.5.0 in /opt/conda/lib/python3.8/site-packages (from gensim) (1.15.0)\n",
      "Requirement already satisfied, skipping upgrade: smart-open>=1.8.1 in /opt/conda/lib/python3.8/site-packages (from gensim) (4.0.1)\n",
      "Requirement already satisfied, skipping upgrade: scipy>=0.18.1 in /opt/conda/lib/python3.8/site-packages (from gensim) (1.5.2)\n",
      "Requirement already satisfied, skipping upgrade: numpy>=1.11.3 in /opt/conda/lib/python3.8/site-packages (from gensim) (1.19.2)\n",
      "Collecting pyreadline\n",
      "  Downloading pyreadline-2.1.zip (109 kB)\n",
      "\u001b[K     |████████████████████████████████| 109 kB 6.3 MB/s eta 0:00:01\n",
      "\u001b[?25hBuilding wheels for collected packages: pyreadline\n",
      "  Building wheel for pyreadline (setup.py) ... \u001b[?25ldone\n",
      "\u001b[?25h  Created wheel for pyreadline: filename=pyreadline-2.1-py3-none-any.whl size=93834 sha256=3f84e790c28c8ed972421d1c176c2f0bf862af591ab404a0b22090abd6a80909\n",
      "  Stored in directory: /root/.cache/pip/wheels/0e/6e/9d/402aa64e362e59c7032231a2e6942e647a6c12508d2c77fc4d\n",
      "Successfully built pyreadline\n",
      "Installing collected packages: pyreadline\n",
      "Successfully installed pyreadline-2.1\n"
     ]
    }
   ],
   "source": [
    "!pip install gensim -U\n",
    "!pip install pyreadline -U"
   ]
  },
  {
   "cell_type": "code",
   "execution_count": 12,
   "metadata": {},
   "outputs": [],
   "source": [
    "# Read in data, clean it, split it into train/test, and then train a doc2vec model\n",
    "import gensim\n",
    "import pandas as pd\n",
    "from sklearn.model_selection import train_test_split\n",
    "pd.set_option('display.max_colwidth', 100)\n",
    "\n",
    "messages = pd.read_csv('spam.csv', encoding='latin-1')\n",
    "messages = messages.drop(labels = [\"Unnamed: 2\", \"Unnamed: 3\", \"Unnamed: 4\"], axis = 1)\n",
    "messages.columns = [\"label\", \"text\"]\n",
    "messages['text_clean'] = messages['text'].apply(lambda x: gensim.utils.simple_preprocess(x))\n",
    "\n",
    "X_train, X_test, y_train, y_test = train_test_split(messages['text_clean'],\n",
    "                                                    messages['label'], test_size=0.2)\n",
    "\n",
    "tagged_docs_tr = [gensim.models.doc2vec.TaggedDocument(v, [i]) for i, v in enumerate(X_train)]\n",
    "\n",
    "d2v_model = gensim.models.Doc2Vec(tagged_docs_tr,\n",
    "                                  vector_size=50,\n",
    "                                  window=2,\n",
    "                                  min_count=2)"
   ]
  },
  {
   "cell_type": "code",
   "execution_count": 14,
   "metadata": {},
   "outputs": [],
   "source": [
    "%config Completer.use_jedi = False"
   ]
  },
  {
   "cell_type": "code",
   "execution_count": 15,
   "metadata": {},
   "outputs": [
    {
     "ename": "SyntaxError",
     "evalue": "invalid syntax (<ipython-input-15-ffcd093c7159>, line 3)",
     "output_type": "error",
     "traceback": [
      "\u001b[0;36m  File \u001b[0;32m\"<ipython-input-15-ffcd093c7159>\"\u001b[0;36m, line \u001b[0;32m3\u001b[0m\n\u001b[0;31m    d2v_model.\u001b[0m\n\u001b[0m              ^\u001b[0m\n\u001b[0;31mSyntaxError\u001b[0m\u001b[0;31m:\u001b[0m invalid syntax\n"
     ]
    }
   ],
   "source": [
    "# What does a document vector look like again?\n",
    "d2v_model.infer_vector(['convert', 'words', 'to', 'vectors'])\n",
    "d2v_model."
   ]
  },
  {
   "cell_type": "code",
   "execution_count": 6,
   "metadata": {},
   "outputs": [],
   "source": [
    "# How do we prepare these vectors to be used in a machine learning model?\n",
    "vects=[[d2v_model.infer_vector(words)] for words in X_test]"
   ]
  },
  {
   "cell_type": "code",
   "execution_count": 10,
   "metadata": {},
   "outputs": [
    {
     "data": {
      "text/plain": [
       "[array([-4.12203372e-02,  1.11947395e-02, -3.46425846e-02,  5.54681085e-02,\n",
       "        -8.12416710e-03, -8.20988603e-03,  1.16405170e-02,  8.85554496e-03,\n",
       "        -2.33952925e-02,  1.61229055e-02, -3.88768571e-03, -2.06756368e-02,\n",
       "         4.37365510e-02, -2.20154226e-02, -6.58262521e-02,  7.46201491e-03,\n",
       "        -3.16491202e-02,  5.11832586e-05,  6.29147654e-03, -1.15191350e-02,\n",
       "        -3.19484696e-02, -7.92766921e-04,  4.94552515e-02, -3.52812707e-02,\n",
       "        -2.74179823e-04,  4.59239818e-02, -3.56174558e-02,  2.73412131e-02,\n",
       "         4.07809727e-02,  2.01806035e-02,  3.15069333e-02, -1.29060745e-02,\n",
       "         1.54101374e-02,  2.17919797e-02, -1.16179278e-02,  4.60356474e-03,\n",
       "        -1.37527450e-03, -1.41135361e-02, -1.44341914e-02, -2.79032029e-02,\n",
       "         3.24353874e-02,  4.66170646e-02, -1.81810781e-02, -2.06516478e-02,\n",
       "         3.23860459e-02, -1.18665313e-02, -1.37402676e-02,  1.14969946e-02,\n",
       "        -2.61908416e-02, -1.77049101e-03], dtype=float32)]"
      ]
     },
     "execution_count": 10,
     "metadata": {},
     "output_type": "execute_result"
    }
   ],
   "source": [
    "vects[0]"
   ]
  }
 ],
 "metadata": {
  "kernelspec": {
   "display_name": "Python 3",
   "language": "python",
   "name": "python3"
  },
  "language_info": {
   "codemirror_mode": {
    "name": "ipython",
    "version": 3
   },
   "file_extension": ".py",
   "mimetype": "text/x-python",
   "name": "python",
   "nbconvert_exporter": "python",
   "pygments_lexer": "ipython3",
   "version": "3.8.5"
  }
 },
 "nbformat": 4,
 "nbformat_minor": 1
}
