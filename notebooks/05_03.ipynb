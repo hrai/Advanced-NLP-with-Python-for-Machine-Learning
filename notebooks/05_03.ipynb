{
 "cells": [
  {
   "cell_type": "markdown",
   "metadata": {},
   "source": [
    "# Compare NLP Techniques: Build Model On word2vec Vectors"
   ]
  },
  {
   "cell_type": "markdown",
   "metadata": {},
   "source": [
    "### Read In Cleaned Text"
   ]
  },
  {
   "cell_type": "code",
   "execution_count": 2,
   "metadata": {},
   "outputs": [],
   "source": [
    "# Load the cleaned training and test sets\n",
    "import gensim\n",
    "import numpy as np\n",
    "import pandas as pd\n",
    "\n",
    "X_train = pd.read_csv('data/X_train.csv')\n",
    "X_test = pd.read_csv('data/X_test.csv')\n",
    "y_train = pd.read_csv('data/y_train.csv')\n",
    "y_test = pd.read_csv('data/y_test.csv')\n"
   ]
  },
  {
   "cell_type": "markdown",
   "metadata": {},
   "source": [
    "### Create word2vec Vectors"
   ]
  },
  {
   "cell_type": "code",
   "execution_count": 3,
   "metadata": {},
   "outputs": [],
   "source": [
    "# Train a basic word2vec model\n",
    "w2v_model = gensim.models.Word2Vec(X_train,\n",
    "                                   size=100,\n",
    "                                   window=5,\n",
    "                                   min_count=2)"
   ]
  },
  {
   "cell_type": "code",
   "execution_count": 4,
   "metadata": {},
   "outputs": [
    {
     "name": "stderr",
     "output_type": "stream",
     "text": [
      "<ipython-input-4-6b2e880ce792>:3: VisibleDeprecationWarning: Creating an ndarray from ragged nested sequences (which is a list-or-tuple of lists-or-tuples-or ndarrays with different lengths or shapes) is deprecated. If you meant to do this, you must specify 'dtype=object' when creating the ndarray\n",
      "  X_train_vect = np.array([np.array([w2v_model.wv[i] for i in ls if i in words])\n",
      "<ipython-input-4-6b2e880ce792>:7: VisibleDeprecationWarning: Creating an ndarray from ragged nested sequences (which is a list-or-tuple of lists-or-tuples-or ndarrays with different lengths or shapes) is deprecated. If you meant to do this, you must specify 'dtype=object' when creating the ndarray\n",
      "  X_test_vect = np.array([np.array([w2v_model.wv[i] for i in ls if i in words])\n"
     ]
    }
   ],
   "source": [
    "# Replace the words in each text message with the learned word vector\n",
    "words = set(w2v_model.wv.index2word)\n",
    "X_train_vect = np.array([np.array([w2v_model.wv[i] for i in ls if i in words])\n",
    "                         for ls in X_train['clean_text']])\n",
    "\n",
    "\n",
    "X_test_vect = np.array([np.array([w2v_model.wv[i] for i in ls if i in words])\n",
    "                         for ls in X_test['clean_text']])"
   ]
  },
  {
   "cell_type": "code",
   "execution_count": 5,
   "metadata": {},
   "outputs": [],
   "source": [
    "# Average the word vectors for each sentence (and assign a vector of zeros if the model\n",
    "# did not learn any of the words in the text message during training\n",
    "X_train_vect_avg = []\n",
    "for v in X_train_vect:\n",
    "    if v.size:\n",
    "        X_train_vect_avg.append(v.mean(axis=0))\n",
    "    else:\n",
    "        X_train_vect_avg.append(np.zeros(100, dtype=float))\n",
    "        \n",
    "X_test_vect_avg = []\n",
    "for v in X_test_vect:\n",
    "    if v.size:\n",
    "        X_test_vect_avg.append(v.mean(axis=0))\n",
    "    else:\n",
    "        X_test_vect_avg.append(np.zeros(100, dtype=float))"
   ]
  },
  {
   "cell_type": "code",
   "execution_count": 6,
   "metadata": {},
   "outputs": [
    {
     "data": {
      "text/plain": [
       "array([[ 0.00052976,  0.00129748, -0.00435183, ..., -0.00282719,\n",
       "         0.00305199, -0.0037114 ],\n",
       "       [ 0.00052976,  0.00129748, -0.00435183, ..., -0.00282719,\n",
       "         0.00305199, -0.0037114 ],\n",
       "       [ 0.00052976,  0.00129748, -0.00435183, ..., -0.00282719,\n",
       "         0.00305199, -0.0037114 ],\n",
       "       ...,\n",
       "       [-0.00314388, -0.00413153, -0.00382374, ..., -0.00023136,\n",
       "        -0.00277039, -0.00068424],\n",
       "       [ 0.00052976,  0.00129748, -0.00435183, ..., -0.00282719,\n",
       "         0.00305199, -0.0037114 ],\n",
       "       [ 0.00052976,  0.00129748, -0.00435183, ..., -0.00282719,\n",
       "         0.00305199, -0.0037114 ]], dtype=float32)"
      ]
     },
     "execution_count": 6,
     "metadata": {},
     "output_type": "execute_result"
    }
   ],
   "source": [
    "# What does the unaveraged version look like?\n",
    "X_test_vect[0]"
   ]
  },
  {
   "cell_type": "code",
   "execution_count": 7,
   "metadata": {},
   "outputs": [
    {
     "data": {
      "text/plain": [
       "array([-1.3817525e-04,  3.1038400e-04, -4.2558154e-03, -4.1776630e-03,\n",
       "       -8.8688580e-04,  2.6434367e-03,  1.6403514e-03,  2.1463572e-03,\n",
       "        1.0858827e-03, -7.3269551e-04,  3.4686334e-03, -2.7430775e-03,\n",
       "        3.1948858e-03, -2.5256479e-03,  2.0413992e-03, -4.5796830e-04,\n",
       "        6.4931711e-04, -4.0241065e-03, -2.2872582e-03, -2.2350156e-03,\n",
       "        9.3134609e-04,  4.1169468e-03, -1.2247874e-03, -1.8431377e-04,\n",
       "       -4.2313961e-03,  1.2366581e-03, -5.6617917e-04,  3.1511628e-03,\n",
       "        2.9806406e-03,  2.9528842e-03, -3.5275936e-03,  1.4976065e-03,\n",
       "       -2.6132101e-03,  1.1233944e-03, -1.3340815e-04, -4.8620622e-03,\n",
       "        3.7058496e-03, -2.9357019e-04, -1.0671747e-04, -8.0434268e-04,\n",
       "       -3.6717599e-04,  3.5600124e-03, -2.6058396e-03, -1.2634781e-03,\n",
       "       -2.0134782e-03,  2.2437698e-03,  1.4429702e-04,  1.5926402e-03,\n",
       "        2.3008336e-03, -3.6393001e-03, -1.9044623e-03, -1.2565989e-03,\n",
       "       -3.0875874e-03, -3.3891611e-04, -1.0627392e-04, -2.8948216e-03,\n",
       "        2.9823447e-03,  2.9129589e-03, -3.1490696e-03,  1.8014207e-03,\n",
       "        1.0132695e-03, -3.3667975e-04,  3.3786059e-03, -2.1012157e-04,\n",
       "       -1.6184578e-03, -3.2452107e-03,  3.5841709e-03, -2.8563582e-03,\n",
       "        2.3299924e-03, -4.7073004e-04,  3.0536025e-03,  2.7101329e-03,\n",
       "        5.0417951e-04,  2.2425897e-04, -3.2770904e-03, -2.8379580e-05,\n",
       "       -3.3386373e-03, -4.3703301e-04, -4.0530264e-03, -1.8651475e-04,\n",
       "        1.0009556e-03,  2.3878321e-04,  1.3695834e-03,  1.6432196e-03,\n",
       "       -2.1546446e-03, -1.0261157e-03,  1.3826647e-03,  2.7199739e-03,\n",
       "        3.0181158e-04, -1.2295584e-03, -1.3548960e-03,  1.2514106e-03,\n",
       "       -9.0859435e-04,  3.4999652e-03,  1.2371922e-03,  1.9073463e-03,\n",
       "        5.3289201e-04, -2.3552252e-03,  1.9933796e-03, -3.1610103e-03],\n",
       "      dtype=float32)"
      ]
     },
     "execution_count": 7,
     "metadata": {},
     "output_type": "execute_result"
    }
   ],
   "source": [
    "# What does the averaged version look like?\n",
    "X_test_vect_avg[0]"
   ]
  },
  {
   "cell_type": "markdown",
   "metadata": {},
   "source": [
    "### Fit RandomForestClassifier On Top Of Word Vectors"
   ]
  },
  {
   "cell_type": "code",
   "execution_count": 8,
   "metadata": {},
   "outputs": [],
   "source": [
    "# Instantiate and fit a basic Random Forest model on top of the vectors\n",
    "from sklearn.ensemble import RandomForestClassifier\n",
    "\n",
    "rf = RandomForestClassifier()\n",
    "rf_model = rf.fit(X_train_vect_avg, y_train.values.ravel())"
   ]
  },
  {
   "cell_type": "code",
   "execution_count": 9,
   "metadata": {},
   "outputs": [],
   "source": [
    "# Use the trained model to make predictions on the test data\n",
    "y_pred = rf_model.predict(X_test_vect_avg)"
   ]
  },
  {
   "cell_type": "code",
   "execution_count": 10,
   "metadata": {},
   "outputs": [
    {
     "name": "stdout",
     "output_type": "stream",
     "text": [
      "Precision: 0.55 / Recall: 0.217 / Accuracy: 0.869\n"
     ]
    }
   ],
   "source": [
    "# Evaluate the predictions of the model on the holdout test set\n",
    "from sklearn.metrics import precision_score, recall_score\n",
    "\n",
    "precision = precision_score(y_test, y_pred)\n",
    "recall = recall_score(y_test, y_pred)\n",
    "print('Precision: {} / Recall: {} / Accuracy: {}'.format(\n",
    "    round(precision, 3), round(recall, 3), round((y_pred==y_test['label']).sum()/len(y_pred), 3)))"
   ]
  }
 ],
 "metadata": {
  "kernelspec": {
   "display_name": "Python 3",
   "language": "python",
   "name": "python3"
  },
  "language_info": {
   "codemirror_mode": {
    "name": "ipython",
    "version": 3
   },
   "file_extension": ".py",
   "mimetype": "text/x-python",
   "name": "python",
   "nbconvert_exporter": "python",
   "pygments_lexer": "ipython3",
   "version": "3.8.5"
  }
 },
 "nbformat": 4,
 "nbformat_minor": 2
}
